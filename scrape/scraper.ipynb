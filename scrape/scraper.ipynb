{
 "cells": [
  {
   "cell_type": "code",
   "execution_count": 8,
   "metadata": {
    "collapsed": true
   },
   "outputs": [
    {
     "data": {
      "text/plain": "{'cdn': ['CloudFlare'],\n 'font-scripts': ['Google Font API'],\n 'web-frameworks': ['Twitter Bootstrap']}"
     },
     "execution_count": 8,
     "metadata": {},
     "output_type": "execute_result"
    }
   ],
   "source": [
    "from builtwith import builtwith\n",
    "\n",
    "#id3\n",
    "\n",
    "builtwith('https://animepahe.com/')"
   ]
  },
  {
   "cell_type": "code",
   "execution_count": 6,
   "outputs": [
    {
     "data": {
      "text/plain": "{'cdn': ['CloudFlare'],\n 'advertising-networks': ['Google AdSense'],\n 'cms': ['WordPress'],\n 'programming-languages': ['PHP'],\n 'blogs': ['PHP', 'WordPress'],\n 'cache-tools': ['WordPress Super Cache'],\n 'marketing-automation': ['Yoast SEO'],\n 'javascript-frameworks': ['jQuery']}"
     },
     "execution_count": 6,
     "metadata": {},
     "output_type": "execute_result"
    }
   ],
   "source": [
    "builtwith('https://praisezion.com/')"
   ],
   "metadata": {
    "collapsed": false
   }
  },
  {
   "cell_type": "code",
   "execution_count": 1,
   "outputs": [
    {
     "name": "stdout",
     "output_type": "stream",
     "text": [
      "{\"message\":\"You are not subscribed to this API.\"}\n"
     ]
    }
   ],
   "source": [
    "import requests\n",
    "\n",
    "url = \"https://api-football-v1.p.rapidapi.com/v3/timezone\"\n",
    "\n",
    "headers = {\n",
    "\t\"X-RapidAPI-Key\": \"29fc272f30msh32cd9486cb02972p14535cjsne43da4c1d506\",\n",
    "\t\"X-RapidAPI-Host\": \"api-football-v1.p.rapidapi.com\"\n",
    "}\n",
    "\n",
    "response = requests.request(\"GET\", url, headers=headers)\n",
    "\n",
    "print(response.text)"
   ],
   "metadata": {
    "collapsed": false
   }
  },
  {
   "cell_type": "code",
   "execution_count": null,
   "outputs": [],
   "source": [],
   "metadata": {
    "collapsed": false
   }
  }
 ],
 "metadata": {
  "kernelspec": {
   "display_name": "Python 3",
   "language": "python",
   "name": "python3"
  },
  "language_info": {
   "codemirror_mode": {
    "name": "ipython",
    "version": 2
   },
   "file_extension": ".py",
   "mimetype": "text/x-python",
   "name": "python",
   "nbconvert_exporter": "python",
   "pygments_lexer": "ipython2",
   "version": "2.7.6"
  }
 },
 "nbformat": 4,
 "nbformat_minor": 0
}
